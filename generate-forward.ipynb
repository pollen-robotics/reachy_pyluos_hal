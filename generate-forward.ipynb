{
 "cells": [
  {
   "cell_type": "code",
   "execution_count": 1,
   "metadata": {},
   "outputs": [],
   "source": [
    "import numpy as np\n",
    "\n",
    "from scipy.spatial.transform import Rotation as R\n",
    "\n",
    "from reachy_pyluos_hal.orbita_kinematic_model import OrbitaKinematicModel"
   ]
  },
  {
   "cell_type": "code",
   "execution_count": 2,
   "metadata": {},
   "outputs": [],
   "source": [
    "def inverse(roll, pitch, yaw):\n",
    "    a = OrbitaKinematicModel(R0=np.eye(3))\n",
    "    q = R.from_euler('xyz', [roll, pitch, yaw]).as_quat()\n",
    "    return np.deg2rad(a.get_angles_from_quaternion(q[3], q[0], q[1], q[2]))"
   ]
  },
  {
   "cell_type": "code",
   "execution_count": 4,
   "metadata": {},
   "outputs": [
    {
     "name": "stdout",
     "output_type": "stream",
     "text": [
      "226981\n"
     ]
    }
   ],
   "source": [
    "N = int(120 * 0.5 + 1)\n",
    "print(N ** 3)\n",
    "\n",
    "X, Y = [], []\n",
    "\n",
    "space = np.deg2rad(np.linspace(-60, 60, N))\n",
    "yaw_space = np.deg2rad(np.linspace(-120, 120, 2 * N))\n",
    "\n",
    "\n",
    "for roll in space:\n",
    "    for pitch in space:\n",
    "        for yaw in space:\n",
    "            try:\n",
    "                d = inverse(roll, pitch, yaw)\n",
    "                X.append(d)\n",
    "                Y.append((roll, pitch, yaw))\n",
    "            except ValueError:\n",
    "                pass\n",
    "\n",
    "X = np.array(X)\n",
    "Y = np.array(Y)\n",
    "\n",
    "X.shape, Y.shape\n"
   ]
  },
  {
   "cell_type": "code",
   "execution_count": null,
   "metadata": {},
   "outputs": [
    {
     "data": {
      "text/plain": [
       "(array([[-176.18674615,  -74.56476751,   25.49214703],\n",
       "        [-175.18674615,  -73.56476751,   26.49214703],\n",
       "        [-174.18674615,  -72.56476751,   27.49214703],\n",
       "        ...,\n",
       "        [ 104.08431744,   43.29390981,  -15.6796107 ],\n",
       "        [ 105.08431744,   44.29390981,  -14.6796107 ],\n",
       "        [ 106.08431744,   45.29390981,  -13.6796107 ]]),\n",
       " array([[-58., -26., -60.],\n",
       "        [-58., -26., -59.],\n",
       "        [-58., -26., -58.],\n",
       "        ...,\n",
       "        [ 58.,  26.,  58.],\n",
       "        [ 58.,  26.,  59.],\n",
       "        [ 58.,  26.,  60.]]))"
      ]
     },
     "execution_count": 4,
     "metadata": {},
     "output_type": "execute_result"
    }
   ],
   "source": [
    "np.rad2deg(X), np.rad2deg(Y)"
   ]
  },
  {
   "cell_type": "code",
   "execution_count": 5,
   "metadata": {},
   "outputs": [],
   "source": [
    "np.save(f'X-{N}.npy', X)\n",
    "np.save(f'Y-{N}.npy', Y)"
   ]
  },
  {
   "cell_type": "code",
   "execution_count": 6,
   "metadata": {},
   "outputs": [],
   "source": [
    "from sklearn.neighbors import KNeighborsRegressor\n",
    "\n",
    "knn = KNeighborsRegressor(n_neighbors=5)"
   ]
  },
  {
   "cell_type": "code",
   "execution_count": 7,
   "metadata": {},
   "outputs": [
    {
     "data": {
      "text/plain": [
       "KNeighborsRegressor()"
      ]
     },
     "execution_count": 7,
     "metadata": {},
     "output_type": "execute_result"
    }
   ],
   "source": [
    "knn.fit(X, Y)"
   ]
  },
  {
   "cell_type": "code",
   "execution_count": 8,
   "metadata": {},
   "outputs": [],
   "source": [
    "e = []\n",
    "\n",
    "for _ in range(1000):\n",
    "    try:\n",
    "        roll, pitch, yaw = np.deg2rad(np.random.rand(3) * 120 - 60)\n",
    "        y = np.array([[roll, pitch, yaw]])\n",
    "\n",
    "        disks = inverse(roll, pitch, yaw)\n",
    "        x = np.array([disks])\n",
    "\n",
    "        y_hat = knn.predict(x)\n",
    "\n",
    "        e.append(np.linalg.norm(y - y_hat))\n",
    "    except ValueError:\n",
    "        pass\n",
    "\n",
    "e = np.array(e)"
   ]
  },
  {
   "cell_type": "code",
   "execution_count": 9,
   "metadata": {},
   "outputs": [
    {
     "data": {
      "text/plain": [
       "1.129446959016913"
      ]
     },
     "execution_count": 9,
     "metadata": {},
     "output_type": "execute_result"
    }
   ],
   "source": [
    "np.rad2deg(e).max()"
   ]
  },
  {
   "cell_type": "code",
   "execution_count": 10,
   "metadata": {},
   "outputs": [
    {
     "data": {
      "text/plain": [
       "(645,)"
      ]
     },
     "execution_count": 10,
     "metadata": {},
     "output_type": "execute_result"
    }
   ],
   "source": [
    "e.shape"
   ]
  },
  {
   "cell_type": "code",
   "execution_count": 11,
   "metadata": {},
   "outputs": [],
   "source": [
    "import pickle\n",
    "\n",
    "with open(f'forward-knn-{N}.pkl', 'wb') as f:\n",
    "    pickle.dump(knn, f)"
   ]
  },
  {
   "cell_type": "code",
   "execution_count": null,
   "metadata": {},
   "outputs": [],
   "source": []
  }
 ],
 "metadata": {
  "interpreter": {
   "hash": "916dbcbb3f70747c44a77c7bcd40155683ae19c65e1c03b4aa3499c5328201f1"
  },
  "kernelspec": {
   "display_name": "Python 3.8.10 64-bit",
   "language": "python",
   "name": "python3"
  },
  "language_info": {
   "codemirror_mode": {
    "name": "ipython",
    "version": 3
   },
   "file_extension": ".py",
   "mimetype": "text/x-python",
   "name": "python",
   "nbconvert_exporter": "python",
   "pygments_lexer": "ipython3",
   "version": "3.8.10"
  },
  "orig_nbformat": 4
 },
 "nbformat": 4,
 "nbformat_minor": 2
}
