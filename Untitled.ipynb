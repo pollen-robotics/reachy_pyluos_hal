{
 "cells": [
  {
   "cell_type": "code",
   "execution_count": 1,
   "metadata": {},
   "outputs": [],
   "source": [
    "%matplotlib inline\n",
    "\n",
    "import time\n",
    "import numpy as np\n",
    "\n",
    "from matplotlib import pyplot as plt\n",
    "\n",
    "from reachy_pyluos_hal.pycore import GateProtocol"
   ]
  },
  {
   "cell_type": "code",
   "execution_count": 2,
   "metadata": {},
   "outputs": [],
   "source": [
    "from threading import Event\n",
    "from collections import defaultdict\n",
    "\n",
    "data = defaultdict(lambda: defaultdict(list))\n",
    "\n",
    "class GateHandler(GateProtocol):\n",
    "    def handle_dxl_pub_data(self, register, ids, errors, values):\n",
    "        for id, err, val in zip(ids, errors, values):\n",
    "           data[id][register].append((err, val, time.time()))\n",
    "            \n",
    "    def handle_assert(self, msg):\n",
    "        raise AssertionError(msg)"
   ]
  },
  {
   "cell_type": "code",
   "execution_count": 3,
   "metadata": {},
   "outputs": [
    {
     "name": "stdout",
     "output_type": "stream",
     "text": [
      "Connection made <ReaderThread(Thread-4, started daemon 123145648713728)>\n",
      "Connection lost\n"
     ]
    }
   ],
   "source": [
    "from serial import Serial\n",
    "from serial.threaded import ReaderThread\n",
    "\n",
    "s = Serial('/dev/cu.usbserial-DN05NM0W', baudrate=1000000)\n",
    "\n",
    "t0 = time.time()\n",
    "\n",
    "with ReaderThread(s, GateHandler) as p:\n",
    "    while time.time() - t0 < 30:\n",
    "        p.send_keep_alive()\n",
    "        time.sleep(1.0)"
   ]
  },
  {
   "cell_type": "code",
   "execution_count": 6,
   "metadata": {},
   "outputs": [
    {
     "data": {
      "image/png": "[encoded data removed]",
      "text/plain": [
       "<Figure size 432x288 with 1 Axes>"
      ]
     },
     "metadata": {
      "needs_background": "light"
     },
     "output_type": "display_data"
    }
   ],
   "source": [
    "plt.figure()\n",
    "\n",
    "for id in data.keys():\n",
    "    _, _, t = zip(*data[id][36])\n",
    "    dt = np.diff(t)\n",
    "    plt.hist(1 / dt)"
   ]
  },
  {
   "cell_type": "code",
   "execution_count": null,
   "metadata": {},
   "outputs": [],
   "source": []
  }
 ],
 "metadata": {
  "kernelspec": {
   "display_name": "Python 3",
   "language": "python",
   "name": "python3"
  },
  "language_info": {
   "codemirror_mode": {
    "name": "ipython",
    "version": 3
   },
   "file_extension": ".py",
   "mimetype": "text/x-python",
   "name": "python",
   "nbconvert_exporter": "python",
   "pygments_lexer": "ipython3",
   "version": "3.9.1"
  }
 },
 "nbformat": 4,
 "nbformat_minor": 4
}
