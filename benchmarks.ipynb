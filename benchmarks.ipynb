{
 "cells": [
  {
   "cell_type": "code",
   "execution_count": 1,
   "metadata": {},
   "outputs": [],
   "source": [
    "%matplotlib inline\n",
    "\n",
    "import time\n",
    "import numpy as np\n",
    "from matplotlib import pyplot as plt"
   ]
  },
  {
   "cell_type": "code",
   "execution_count": 2,
   "metadata": {},
   "outputs": [],
   "source": [
    "from collections import defaultdict\n",
    "from reachy_pyluos_hal.pycore import GateProtocol\n",
    "\n",
    "data = defaultdict(lambda: defaultdict(list))\n",
    "\n",
    "class GateHandler(GateProtocol):\n",
    "    def handle_dxl_pub_data(self, register, ids, errors, values):\n",
    "        for id, err, val in zip(ids, errors, values):\n",
    "            data[id][register].append((err, val, time.time()))\n",
    "    \n",
    "    def handle_assert(self, msg):\n",
    "        raise AssertionError(msg)"
   ]
  },
  {
   "cell_type": "code",
   "execution_count": 3,
   "metadata": {},
   "outputs": [
    {
     "name": "stdout",
     "output_type": "stream",
     "text": [
      "Connection made <ReaderThread(Thread-4, started daemon 123145633837056)>\n",
      "Connection lost\n"
     ]
    }
   ],
   "source": [
    "import sys\n",
    "\n",
    "from serial import Serial\n",
    "from serial.threaded import ReaderThread\n",
    "\n",
    "if sys.platform == 'darwin':\n",
    "    s = Serial('/dev/tty.usbserial-DN05NM0W', baudrate=1000000)\n",
    "else:\n",
    "    s = Serial('/dev/ttyUSB0', baudrate=1000000)\n",
    "    s.set_low_latency_mode(True)\n",
    "\n",
    "start = time.time()\n",
    "with ReaderThread(s, GateHandler) as p:\n",
    "    while time.time() - start < 60:\n",
    "        p.send_keep_alive()\n",
    "        time.sleep(1.0)"
   ]
  },
  {
   "cell_type": "code",
   "execution_count": 4,
   "metadata": {},
   "outputs": [
    {
     "data": {
      "text/plain": [
       "dict_keys([10, 16, 11, 12, 13, 14, 15, 17])"
      ]
     },
     "execution_count": 4,
     "metadata": {},
     "output_type": "execute_result"
    }
   ],
   "source": [
    "ids = data.keys()\n",
    "ids"
   ]
  },
  {
   "cell_type": "code",
   "execution_count": 5,
   "metadata": {},
   "outputs": [
    {
     "name": "stdout",
     "output_type": "stream",
     "text": [
      "dict_keys([36, 43])\n",
      "dict_keys([43, 36])\n",
      "dict_keys([36, 43])\n",
      "dict_keys([36, 43])\n",
      "dict_keys([36, 43])\n",
      "dict_keys([36, 43])\n",
      "dict_keys([36, 43])\n",
      "dict_keys([36, 43])\n"
     ]
    }
   ],
   "source": [
    "for id in ids:\n",
    "    print(data[id].keys())"
   ]
  },
  {
   "cell_type": "code",
   "execution_count": 6,
   "metadata": {},
   "outputs": [
    {
     "name": "stdout",
     "output_type": "stream",
     "text": [
      "Motor 10 received 13159 pos update (in 60.2s)\n",
      "\tAvg freq 246.1Hz (Std=79.5)\n",
      "\t Error: []\n",
      "Motor 16 received 13159 pos update (in 60.2s)\n",
      "\tAvg freq 246.1Hz (Std=79.7)\n",
      "\t Error: []\n",
      "Motor 11 received 13159 pos update (in 60.2s)\n",
      "\tAvg freq 245.9Hz (Std=79.2)\n",
      "\t Error: []\n",
      "Motor 12 received 13159 pos update (in 60.2s)\n",
      "\tAvg freq 246.0Hz (Std=79.4)\n",
      "\t Error: []\n",
      "Motor 13 received 13160 pos update (in 60.2s)\n",
      "\tAvg freq 245.9Hz (Std=79.3)\n",
      "\t Error: []\n",
      "Motor 14 received 13160 pos update (in 60.2s)\n",
      "\tAvg freq 246.1Hz (Std=79.6)\n",
      "\t Error: []\n",
      "Motor 15 received 13160 pos update (in 60.2s)\n",
      "\tAvg freq 246.0Hz (Std=79.6)\n",
      "\t Error: []\n",
      "Motor 17 received 13160 pos update (in 60.2s)\n",
      "\tAvg freq 245.9Hz (Std=79.3)\n",
      "\t Error: []\n"
     ]
    }
   ],
   "source": [
    "for id in ids:\n",
    "    err, pos, t = zip(*data[id][36])\n",
    "    elapsed_time = t[-1] - t[0]\n",
    "    print(f'Motor {id} received {len(pos)} pos update (in {elapsed_time:.1f}s)')\n",
    "    dt = 1 / np.diff(t)\n",
    "    print(f'\\tAvg freq {np.mean(dt):.1f}Hz (Std={np.std(dt):.1f})')\n",
    "    real_err = [e for e in err if e]\n",
    "    print(f'\\t Error: {real_err}')\n",
    "    "
   ]
  },
  {
   "cell_type": "code",
   "execution_count": null,
   "metadata": {},
   "outputs": [],
   "source": []
  },
  {
   "cell_type": "code",
   "execution_count": null,
   "metadata": {},
   "outputs": [],
   "source": []
  }
 ],
 "metadata": {
  "kernelspec": {
   "display_name": "Python 3",
   "language": "python",
   "name": "python3"
  },
  "language_info": {
   "codemirror_mode": {
    "name": "ipython",
    "version": 3
   },
   "file_extension": ".py",
   "mimetype": "text/x-python",
   "name": "python",
   "nbconvert_exporter": "python",
   "pygments_lexer": "ipython3",
   "version": "3.9.1"
  }
 },
 "nbformat": 4,
 "nbformat_minor": 4
}
