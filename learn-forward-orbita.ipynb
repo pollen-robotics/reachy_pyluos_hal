{
 "cells": [
  {
   "cell_type": "code",
   "execution_count": 1,
   "id": "090bc07d",
   "metadata": {},
   "outputs": [],
   "source": [
    "import numpy as np\n",
    "\n",
    "from scipy.spatial.transform import Rotation as R\n",
    "\n",
    "from reachy_pyluos_hal.orbita_kinematic_model import OrbitaKinematicModel"
   ]
  },
  {
   "cell_type": "code",
   "execution_count": 2,
   "id": "6dfbbedd",
   "metadata": {},
   "outputs": [],
   "source": [
    "def inverse(roll, pitch, yaw):\n",
    "    a = OrbitaKinematicModel(R0=np.eye(3))\n",
    "    q = R.from_euler('xyz', [roll, pitch, yaw]).as_quat()\n",
    "    return np.deg2rad(a.get_angles_from_quaternion(q[3], q[0], q[1], q[2]))"
   ]
  },
  {
   "cell_type": "markdown",
   "id": "4bb89935",
   "metadata": {},
   "source": [
    "## Generate dataset"
   ]
  },
  {
   "cell_type": "code",
   "execution_count": null,
   "id": "09405e34",
   "metadata": {},
   "outputs": [],
   "source": [
    "N = int(180 * 0.5 + 1)\n",
    "print(N ** 3)\n",
    "\n",
    "X, Y = [], []\n",
    "\n",
    "space = np.deg2rad(np.linspace(-60, 60, N))\n",
    "yaw_space = np.deg2rad(np.linspace(-180, 180, 2 * N))\n",
    "\n",
    "\n",
    "for roll in space:\n",
    "    for pitch in space:\n",
    "        for yaw in space:\n",
    "            try:\n",
    "                d = inverse(roll, pitch, yaw)\n",
    "                X.append(d)\n",
    "                Y.append((roll, pitch, yaw))\n",
    "            except ValueError:\n",
    "                pass\n",
    "\n",
    "X = np.array(X)\n",
    "Y = np.array(Y)\n",
    "\n",
    "X.shape, Y.shape"
   ]
  },
  {
   "cell_type": "code",
   "execution_count": null,
   "id": "2f24e91d",
   "metadata": {},
   "outputs": [],
   "source": [
    "np.rad2deg(X), np.rad2deg(Y)"
   ]
  },
  {
   "cell_type": "markdown",
   "id": "b09957f4",
   "metadata": {},
   "source": [
    "Save the data if needed."
   ]
  },
  {
   "cell_type": "code",
   "execution_count": null,
   "id": "6fa20284",
   "metadata": {},
   "outputs": [],
   "source": [
    "# np.save(f'data/X-{N}.npy', X)\n",
    "# np.save(f'data/Y-{N}.npy', Y)"
   ]
  },
  {
   "cell_type": "markdown",
   "id": "41a8cc10",
   "metadata": {},
   "source": [
    "Different strategies are available to generate a model predicting the forward kinematics."
   ]
  },
  {
   "cell_type": "markdown",
   "id": "9455a307",
   "metadata": {},
   "source": [
    "## Using MLP Regressor from sklearn"
   ]
  },
  {
   "cell_type": "markdown",
   "id": "bd1e13a3",
   "metadata": {},
   "source": [
    "### (model currently used in reachy_pyluos_hal (orbita_kinematic_model.py))"
   ]
  },
  {
   "cell_type": "code",
   "execution_count": null,
   "id": "af4a3a15",
   "metadata": {},
   "outputs": [],
   "source": [
    "from sklearn.model_selection import train_test_split\n",
    "from sklearn.preprocessing import StandardScaler\n",
    "from sklearn.neural_network import MLPRegressor\n",
    "from sklearn.model_selection import cross_val_predict\n",
    "from sklearn.metrics import r2_score"
   ]
  },
  {
   "cell_type": "markdown",
   "id": "024e77d3",
   "metadata": {},
   "source": [
    "Load the data it it was previously generated."
   ]
  },
  {
   "cell_type": "code",
   "execution_count": null,
   "id": "335bd68b",
   "metadata": {},
   "outputs": [],
   "source": [
    "X, Y = np.load('X-91.npy'), np.load('Y-91.npy')\n",
    "\n",
    "X.shape, Y.shape\n",
    "Xtrig=np.array([np.sin(X),np.cos(X)]).reshape((X.shape[0],X.shape[1]*2))\n",
    "Ytrig=np.array([np.sin(Y),np.cos(Y)]).reshape((Y.shape[0],Y.shape[1]*2))"
   ]
  },
  {
   "cell_type": "code",
   "execution_count": null,
   "id": "3069591f",
   "metadata": {},
   "outputs": [],
   "source": [
    "scaler = StandardScaler()"
   ]
  },
  {
   "cell_type": "code",
   "execution_count": null,
   "id": "71f4b21e",
   "metadata": {},
   "outputs": [],
   "source": [
    "print(X.shape)\n",
    "print(Y.shape)\n",
    "scaler.fit(X,Y)"
   ]
  },
  {
   "cell_type": "code",
   "execution_count": null,
   "id": "74791a65",
   "metadata": {},
   "outputs": [],
   "source": [
    "scaler.transform(Y)"
   ]
  },
  {
   "cell_type": "code",
   "execution_count": null,
   "id": "b544d82d",
   "metadata": {},
   "outputs": [],
   "source": [
    "X_train, X_test, y_train, y_test = train_test_split(X, Y)\n",
    "model = MLPRegressor(hidden_layer_sizes=(300,))\n",
    "model.fit(X_train, y_train)"
   ]
  },
  {
   "cell_type": "code",
   "execution_count": null,
   "id": "2397f1c0",
   "metadata": {},
   "outputs": [],
   "source": [
    "print(model.score(X_test, y_test))  # returns 0.99964"
   ]
  },
  {
   "cell_type": "code",
   "execution_count": null,
   "id": "c1479698",
   "metadata": {},
   "outputs": [],
   "source": [
    "import time\n",
    "test=np.array([0,0,0]).reshape((1,3))\n",
    "test=np.radians(test)\n",
    "t0=time.time()\n",
    "res=model.predict(test)\n",
    "t1=time.time()\n",
    "print(f'RES: {res} {t1-t0}')  # returns RES: [[-0.00390054  0.00119692  0.00281156]] 0.0001933574676513672"
   ]
  },
  {
   "cell_type": "markdown",
   "id": "7c61204a",
   "metadata": {},
   "source": [
    "Save the trained model."
   ]
  },
  {
   "cell_type": "code",
   "execution_count": null,
   "id": "9683c0db",
   "metadata": {},
   "outputs": [],
   "source": [
    "import pickle\n",
    "\n",
    "filehandler = open(\"mlpreg.obj\",\"wb\")\n",
    "pickle.dump(model,filehandler)"
   ]
  },
  {
   "cell_type": "markdown",
   "id": "416fdc27",
   "metadata": {},
   "source": [
    "## Other methods"
   ]
  },
  {
   "cell_type": "markdown",
   "id": "5e241568",
   "metadata": {},
   "source": [
    "### Training a keras model"
   ]
  },
  {
   "cell_type": "code",
   "execution_count": null,
   "id": "33bf8a83",
   "metadata": {},
   "outputs": [],
   "source": [
    "from tensorflow import keras\n",
    "from tensorflow.keras import layers"
   ]
  },
  {
   "cell_type": "code",
   "execution_count": null,
   "id": "6293a866",
   "metadata": {},
   "outputs": [],
   "source": [
    "D = np.hstack((X, Y))\n",
    "np.random.shuffle(D)\n",
    "\n",
    "I = int(len(D) * 0.8)\n",
    "X_train, Y_train = D[:I, :3], D[:I, 3:]\n",
    "X_val, Y_val = D[I:, :3], D[I:, 3:]\n",
    "\n",
    "X_train.shape, Y_train.shape, X_val.shape, Y_val.shape"
   ]
  },
  {
   "cell_type": "code",
   "execution_count": null,
   "id": "da585470",
   "metadata": {},
   "outputs": [],
   "source": [
    "inputs = keras.Input(shape=(3,))\n",
    "x = layers.Dense(units=16, activation='relu')(inputs)\n",
    "outputs =layers.Dense(units=3, activation='linear')(x)\n",
    "\n",
    "m = keras.Model(inputs, outputs)\n",
    "m.compile(optimizer='Adam', loss='mse')"
   ]
  },
  {
   "cell_type": "code",
   "execution_count": null,
   "id": "71f8f666",
   "metadata": {},
   "outputs": [],
   "source": [
    "m.summary()"
   ]
  },
  {
   "cell_type": "code",
   "execution_count": null,
   "id": "b0e2a659",
   "metadata": {},
   "outputs": [],
   "source": [
    "m.fit(X_train, Y_train, epochs=10)"
   ]
  },
  {
   "cell_type": "code",
   "execution_count": null,
   "id": "cf9b19ce",
   "metadata": {},
   "outputs": [],
   "source": [
    "m.evaluate(X_val, Y_val)"
   ]
  },
  {
   "cell_type": "markdown",
   "id": "b394e8fc",
   "metadata": {},
   "source": [
    "### Using KNeighborsRegressor"
   ]
  },
  {
   "cell_type": "code",
   "execution_count": null,
   "id": "9ff59954",
   "metadata": {},
   "outputs": [],
   "source": [
    "from sklearn.neighbors import KNeighborsRegressor\n",
    "\n",
    "knn = KNeighborsRegressor(n_neighbors=5)\n",
    "knn.fit(X, Y)"
   ]
  },
  {
   "cell_type": "markdown",
   "id": "99e6fb0b",
   "metadata": {},
   "source": [
    "Measure the error."
   ]
  },
  {
   "cell_type": "code",
   "execution_count": null,
   "id": "21875de4",
   "metadata": {},
   "outputs": [],
   "source": [
    "e = []\n",
    "\n",
    "for _ in range(1000):\n",
    "    try:\n",
    "        roll, pitch, yaw = np.deg2rad(np.random.rand(3) * 120 - 60)\n",
    "        y = np.array([[roll, pitch, yaw]])\n",
    "\n",
    "        disks = inverse(roll, pitch, yaw)\n",
    "        x = np.array([disks])\n",
    "\n",
    "        y_hat = knn.predict(x)\n",
    "\n",
    "        e.append(np.linalg.norm(y - y_hat))\n",
    "    except ValueError:\n",
    "        pass\n",
    "\n",
    "e = np.array(e)\n",
    "print(np.rad2deg(e).max()) # returns 1.12 deg"
   ]
  }
 ],
 "metadata": {
  "kernelspec": {
   "display_name": "Python 3",
   "language": "python",
   "name": "python3"
  },
  "language_info": {
   "codemirror_mode": {
    "name": "ipython",
    "version": 3
   },
   "file_extension": ".py",
   "mimetype": "text/x-python",
   "name": "python",
   "nbconvert_exporter": "python",
   "pygments_lexer": "ipython3",
   "version": "3.9.1"
  }
 },
 "nbformat": 4,
 "nbformat_minor": 5
}
