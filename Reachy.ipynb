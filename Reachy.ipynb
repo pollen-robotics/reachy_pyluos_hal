{
 "cells": [
  {
   "cell_type": "code",
   "execution_count": 1,
   "metadata": {},
   "outputs": [],
   "source": [
    "from reachy_pyluos_hal.reachy import Reachy\n",
    "from logging import getLogger\n",
    "\n",
    "r = Reachy(\"full_kit\",getLogger())\n",
    "r.start()"
   ]
  },
  {
   "cell_type": "code",
   "execution_count": 20,
   "metadata": {},
   "outputs": [],
   "source": [
    "r.set_joints_value(\"torque_enable\",{\"l_elbow_pitch\":True})"
   ]
  },
  {
   "cell_type": "code",
   "execution_count": 22,
   "metadata": {},
   "outputs": [
    {
     "data": {
      "text/plain": [
       "[-352]"
      ]
     },
     "execution_count": 22,
     "metadata": {},
     "output_type": "execute_result"
    },
    {
     "name": "stderr",
     "output_type": "stream",
     "text": [
      "Exception in thread Thread-15:\n",
      "Traceback (most recent call last):\n",
      "  File \"/usr/lib/python3.8/threading.py\", line 932, in _bootstrap_inner\n",
      "    self.run()\n",
      "  File \"/home/nuc2/.local/lib/python3.8/site-packages/serial/threaded/__init__.py\", line 213, in run\n",
      "    self.protocol.connection_lost(error)\n",
      "  File \"/home/nuc2/dev/reachy_pyluos_hal/reachy_pyluos_hal/pycore.py\", line 76, in connection_lost\n",
      "    raise exc\n",
      "  File \"/home/nuc2/.local/lib/python3.8/site-packages/serial/threaded/__init__.py\", line 208, in run\n",
      "    self.protocol.data_received(data)\n",
      "  File \"/home/nuc2/dev/reachy_pyluos_hal/reachy_pyluos_hal/pycore.py\", line 84, in data_received\n",
      "    for msg in self.pop_messages():\n",
      "  File \"/home/nuc2/dev/reachy_pyluos_hal/reachy_pyluos_hal/pycore.py\", line 177, in pop_messages\n",
      "    raise IOError(f'Corrupted buffer {self.buffer}')\n",
      "OSError: Corrupted buffer bytearray(b'\\xff\\x08\\x0f%\\x02\\x1f\\x00\\x00\\xfd\\x01\\xff\\xff\\x08\\x0f%\\x02\\x1e\\x00\\x00\\x06\\x02\\xff\\xff\\x0f7(\\n\\xc9\\n\\x00\\x00\\xea\\x0e\\x00\\x00y\\x06\\x00\\x00\\xff\\xff\\t\\xd7\\x00\\x02\\x05\\x07\\t\\x0b\\r\\x0f')\n"
     ]
    }
   ],
   "source": [
    "r.get_dxls_value(\"present_load\",[\"l_elbow_pitch\"],True,3)"
   ]
  },
  {
   "cell_type": "code",
   "execution_count": 2,
   "metadata": {},
   "outputs": [
    {
     "ename": "TypeError",
     "evalue": "get_orbita_values() missing 1 required positional argument: 'retry'",
     "output_type": "error",
     "traceback": [
      "\u001b[0;31m---------------------------------------------------------------------------\u001b[0m",
      "\u001b[0;31mTypeError\u001b[0m                                 Traceback (most recent call last)",
      "\u001b[0;32m<ipython-input-2-4c22bb517d5a>\u001b[0m in \u001b[0;36m<module>\u001b[0;34m\u001b[0m\n\u001b[0;32m----> 1\u001b[0;31m \u001b[0mr\u001b[0m\u001b[0;34m.\u001b[0m\u001b[0mget_orbita_values\u001b[0m\u001b[0;34m(\u001b[0m\u001b[0;34m'zero'\u001b[0m\u001b[0;34m,\u001b[0m \u001b[0;34m'neck'\u001b[0m\u001b[0;34m,\u001b[0m \u001b[0mclear_value\u001b[0m\u001b[0;34m=\u001b[0m\u001b[0;32mTrue\u001b[0m\u001b[0;34m)\u001b[0m\u001b[0;34m\u001b[0m\u001b[0;34m\u001b[0m\u001b[0m\n\u001b[0m",
      "\u001b[0;31mTypeError\u001b[0m: get_orbita_values() missing 1 required positional argument: 'retry'"
     ]
    }
   ],
   "source": [
    "r.get_orbita_values('zero', 'neck', clear_value=True)"
   ]
  },
  {
   "cell_type": "code",
   "execution_count": null,
   "metadata": {},
   "outputs": [],
   "source": [
    "r.get_orbita_values('absolute_position', 'neck', clear_value=True)"
   ]
  },
  {
   "cell_type": "code",
   "execution_count": null,
   "metadata": {},
   "outputs": [],
   "source": [
    "[d.offset for d in r.orbitas['neck'].disks]"
   ]
  },
  {
   "cell_type": "code",
   "execution_count": null,
   "metadata": {},
   "outputs": [],
   "source": [
    "r.setup()"
   ]
  },
  {
   "cell_type": "code",
   "execution_count": null,
   "metadata": {},
   "outputs": [],
   "source": [
    "[d.offset for d in r.orbitas['neck'].disks]"
   ]
  },
  {
   "cell_type": "code",
   "execution_count": null,
   "metadata": {},
   "outputs": [],
   "source": [
    "r.set_orbita_values('compliant', 'neck', {\n",
    "    'disk_bottom': False, \n",
    "    'disk_middle': False, \n",
    "    'disk_top': False,\n",
    "})"
   ]
  },
  {
   "cell_type": "code",
   "execution_count": null,
   "metadata": {},
   "outputs": [],
   "source": [
    "r.set_orbita_values('goal_position', 'neck', {\n",
    "    'disk_top': 0,\n",
    "    'disk_middle': 0,\n",
    "    'disk_bottom': 0,\n",
    "})"
   ]
  },
  {
   "cell_type": "code",
   "execution_count": null,
   "metadata": {},
   "outputs": [],
   "source": [
    "import numpy as np\n",
    "\n",
    "r.set_orbita_values('goal_position', 'neck', {\n",
    "    'disk_top': 0,\n",
    "})"
   ]
  },
  {
   "cell_type": "code",
   "execution_count": null,
   "metadata": {},
   "outputs": [],
   "source": [
    "r.set_orbita_values('compliant', 'neck', {\n",
    "    'disk_bottom': True, \n",
    "    'disk_middle': True, \n",
    "    'disk_top': True,\n",
    "})"
   ]
  },
  {
   "cell_type": "code",
   "execution_count": null,
   "metadata": {},
   "outputs": [],
   "source": [
    "r.get_orbita_values('present_position', 'neck', clear_value=True)"
   ]
  },
  {
   "cell_type": "code",
   "execution_count": null,
   "metadata": {},
   "outputs": [],
   "source": []
  }
 ],
 "metadata": {
  "kernelspec": {
   "display_name": "Python 3",
   "language": "python",
   "name": "python3"
  },
  "language_info": {
   "codemirror_mode": {
    "name": "ipython",
    "version": 3
   },
   "file_extension": ".py",
   "mimetype": "text/x-python",
   "name": "python",
   "nbconvert_exporter": "python",
   "pygments_lexer": "ipython3",
   "version": "3.8.5"
  }
 },
 "nbformat": 4,
 "nbformat_minor": 4
}
