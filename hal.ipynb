{
 "cells": [
  {
   "cell_type": "code",
   "execution_count": 1,
   "metadata": {},
   "outputs": [
    {
     "name": "stdout",
     "output_type": "stream",
     "text": [
      "Using matplotlib backend: MacOSX\n"
     ]
    }
   ],
   "source": [
    "%matplotlib \n",
    "\n",
    "from matplotlib import pyplot as plt\n",
    "import numpy as np\n",
    "import time\n",
    "\n",
    "from logging import getLogger\n",
    "from reachy_pyluos_hal.joint_hal import JointLuos\n",
    "\n",
    "hal = JointLuos(logger=getLogger())\n",
    "hal.__enter__()"
   ]
  },
  {
   "cell_type": "code",
   "execution_count": 2,
   "metadata": {},
   "outputs": [
    {
     "data": {
      "text/plain": [
       "['l_antenna',\n",
       " 'r_antenna',\n",
       " 'neck_disk_top',\n",
       " 'neck_disk_middle',\n",
       " 'neck_disk_bottom',\n",
       " 'neck_roll',\n",
       " 'neck_pitch',\n",
       " 'neck_yaw']"
      ]
     },
     "execution_count": 2,
     "metadata": {},
     "output_type": "execute_result"
    }
   ],
   "source": [
    "names = hal.get_all_joint_names()\n",
    "names"
   ]
  },
  {
   "cell_type": "code",
   "execution_count": 3,
   "metadata": {},
   "outputs": [
    {
     "data": {
      "text/plain": [
       "{'l_antenna': 0.20217157024567722,\n",
       " 'r_antenna': 0.40690227429193326,\n",
       " 'neck_disk_top': 0.20814939306386704,\n",
       " 'neck_disk_middle': 0.25416881670043623,\n",
       " 'neck_disk_bottom': 0.21168934872821848,\n",
       " 'neck_roll': 0,\n",
       " 'neck_pitch': 0,\n",
       " 'neck_yaw': 0}"
      ]
     },
     "execution_count": 3,
     "metadata": {},
     "output_type": "execute_result"
    }
   ],
   "source": [
    "dict(zip(names, hal.get_joint_positions(names)))"
   ]
  },
  {
   "cell_type": "code",
   "execution_count": 4,
   "metadata": {},
   "outputs": [
    {
     "data": {
      "text/plain": [
       "True"
      ]
     },
     "execution_count": 4,
     "metadata": {},
     "output_type": "execute_result"
    }
   ],
   "source": [
    "hal.set_compliance({\n",
    "    'l_antenna': False, \n",
    "    'r_antenna': True,\n",
    "    'neck_disk_top': False,\n",
    "    'neck_disk_middle': False,\n",
    "    'neck_disk_botton': True,\n",
    "})"
   ]
  },
  {
   "cell_type": "code",
   "execution_count": 5,
   "metadata": {},
   "outputs": [],
   "source": [
    "hal.set_goal_positions({\n",
    "    'l_antenna': 0, \n",
    "    'neck_disk_top': 0,\n",
    "    'neck_disk_middle': 0,\n",
    "})"
   ]
  },
  {
   "cell_type": "code",
   "execution_count": null,
   "metadata": {},
   "outputs": [],
   "source": [
    "t = []\n",
    "\n",
    "while True:\n",
    "    p1, p2 = hal.get_joint_positions(['r_antenna', 'neck_disk_bottom'])\n",
    "\n",
    "    hal.set_goal_positions({\n",
    "        'l_antenna': p2,\n",
    "        'neck_disk_top': p2,\n",
    "        'neck_disk_middle': p1,\n",
    "    })\n",
    "    t.append(time.time())\n",
    "    time.sleep(0.005)"
   ]
  },
  {
   "cell_type": "code",
   "execution_count": 7,
   "metadata": {},
   "outputs": [
    {
     "data": {
      "text/plain": [
       "[<matplotlib.lines.Line2D at 0x11d93ec10>]"
      ]
     },
     "execution_count": 7,
     "metadata": {},
     "output_type": "execute_result"
    }
   ],
   "source": [
    "plt.figure()\n",
    "plt.plot(np.diff(t))"
   ]
  },
  {
   "cell_type": "code",
   "execution_count": 8,
   "metadata": {},
   "outputs": [
    {
     "data": {
      "text/plain": [
       "333.3333333333333"
      ]
     },
     "execution_count": 8,
     "metadata": {},
     "output_type": "execute_result"
    }
   ],
   "source": [
    "1/0.0030"
   ]
  },
  {
   "cell_type": "code",
   "execution_count": null,
   "metadata": {},
   "outputs": [],
   "source": []
  }
 ],
 "metadata": {
  "kernelspec": {
   "display_name": "Python 3",
   "language": "python",
   "name": "python3"
  },
  "language_info": {
   "codemirror_mode": {
    "name": "ipython",
    "version": 3
   },
   "file_extension": ".py",
   "mimetype": "text/x-python",
   "name": "python",
   "nbconvert_exporter": "python",
   "pygments_lexer": "ipython3",
   "version": "3.9.2"
  }
 },
 "nbformat": 4,
 "nbformat_minor": 4
}
