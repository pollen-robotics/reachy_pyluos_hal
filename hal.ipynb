{
 "cells": [
  {
   "cell_type": "code",
   "execution_count": 1,
   "metadata": {},
   "outputs": [
    {
     "name": "stdout",
     "output_type": "stream",
     "text": [
      "Using matplotlib backend: TkAgg\n"
     ]
    },
    {
     "data": {
      "text/plain": [
       "<reachy_pyluos_hal.joint_hal.JointLuos at 0x7fb830ffaf70>"
      ]
     },
     "execution_count": 1,
     "metadata": {},
     "output_type": "execute_result"
    }
   ],
   "source": [
    "%matplotlib \n",
    "\n",
    "from matplotlib import pyplot as plt\n",
    "import numpy as np\n",
    "import time\n",
    "\n",
    "from logging import getLogger\n",
    "from reachy_pyluos_hal.joint_hal import JointLuos\n",
    "\n",
    "hal = JointLuos(\"full_kit\",logger=getLogger())\n",
    "hal.__enter__()"
   ]
  },
  {
   "cell_type": "code",
   "execution_count": 3,
   "metadata": {},
   "outputs": [
    {
     "data": {
      "text/plain": [
       "[0.0,\n",
       " 0.0,\n",
       " 0.0,\n",
       " -112,\n",
       " 0.0,\n",
       " 0.0,\n",
       " 0.0,\n",
       " 0.0,\n",
       " 0.0,\n",
       " 0.0,\n",
       " 0.0,\n",
       " 0.0,\n",
       " 0.0,\n",
       " 0.0,\n",
       " 0.0,\n",
       " 0.0,\n",
       " 0.0,\n",
       " 0.0,\n",
       " 0.0,\n",
       " 0.0,\n",
       " 0.0,\n",
       " 0.0,\n",
       " 0.0,\n",
       " 0.0]"
      ]
     },
     "execution_count": 3,
     "metadata": {},
     "output_type": "execute_result"
    },
    {
     "name": "stderr",
     "output_type": "stream",
     "text": [
      "Exception in thread Thread-15:\n",
      "Traceback (most recent call last):\n",
      "  File \"/usr/lib/python3.8/threading.py\", line 932, in _bootstrap_inner\n",
      "    self.run()\n",
      "  File \"/home/nuc2/.local/lib/python3.8/site-packages/serial/threaded/__init__.py\", line 213, in run\n",
      "    self.protocol.connection_lost(error)\n",
      "  File \"/home/nuc2/dev/reachy_pyluos_hal/reachy_pyluos_hal/pycore.py\", line 76, in connection_lost\n",
      "    raise exc\n",
      "  File \"/home/nuc2/.local/lib/python3.8/site-packages/serial/threaded/__init__.py\", line 208, in run\n",
      "    self.protocol.data_received(data)\n",
      "  File \"/home/nuc2/dev/reachy_pyluos_hal/reachy_pyluos_hal/pycore.py\", line 84, in data_received\n",
      "    for msg in self.pop_messages():\n",
      "  File \"/home/nuc2/dev/reachy_pyluos_hal/reachy_pyluos_hal/pycore.py\", line 177, in pop_messages\n",
      "    raise IOError(f'Corrupted buffer {self.buffer}')\n",
      "OSError: Corrupted buffer bytearray(b'\\xff\\x08\\x0f%\\x02\\x1e\\x00\\x00\\x06\\x02')\n"
     ]
    }
   ],
   "source": [
    "hal.get_joint_efforts(names)"
   ]
  },
  {
   "cell_type": "code",
   "execution_count": 2,
   "metadata": {},
   "outputs": [
    {
     "data": {
      "text/plain": [
       "['l_shoulder_pitch',\n",
       " 'l_shoulder_roll',\n",
       " 'l_arm_yaw',\n",
       " 'l_elbow_pitch',\n",
       " 'l_forearm_yaw',\n",
       " 'l_wrist_pitch',\n",
       " 'l_wrist_roll',\n",
       " 'l_gripper',\n",
       " 'r_shoulder_pitch',\n",
       " 'r_shoulder_roll',\n",
       " 'r_arm_yaw',\n",
       " 'r_elbow_pitch',\n",
       " 'r_forearm_yaw',\n",
       " 'r_wrist_pitch',\n",
       " 'r_wrist_roll',\n",
       " 'r_gripper',\n",
       " 'l_antenna',\n",
       " 'r_antenna',\n",
       " 'neck_disk_top',\n",
       " 'neck_disk_middle',\n",
       " 'neck_disk_bottom',\n",
       " 'neck_roll',\n",
       " 'neck_pitch',\n",
       " 'neck_yaw']"
      ]
     },
     "execution_count": 2,
     "metadata": {},
     "output_type": "execute_result"
    }
   ],
   "source": [
    "names = hal.get_all_joint_names()\n",
    "names"
   ]
  },
  {
   "cell_type": "code",
   "execution_count": 3,
   "metadata": {},
   "outputs": [
    {
     "data": {
      "text/plain": [
       "{'l_antenna': 0.20217157024567722,\n",
       " 'r_antenna': 0.40690227429193326,\n",
       " 'neck_disk_top': 0.20814939306386704,\n",
       " 'neck_disk_middle': 0.25416881670043623,\n",
       " 'neck_disk_bottom': 0.21168934872821848,\n",
       " 'neck_roll': 0,\n",
       " 'neck_pitch': 0,\n",
       " 'neck_yaw': 0}"
      ]
     },
     "execution_count": 3,
     "metadata": {},
     "output_type": "execute_result"
    }
   ],
   "source": [
    "dict(zip(names, hal.get_joint_positions(names)))"
   ]
  },
  {
   "cell_type": "code",
   "execution_count": 4,
   "metadata": {},
   "outputs": [
    {
     "data": {
      "text/plain": [
       "True"
      ]
     },
     "execution_count": 4,
     "metadata": {},
     "output_type": "execute_result"
    }
   ],
   "source": [
    "hal.set_compliance({\n",
    "    'l_antenna': False, \n",
    "    'r_antenna': True,\n",
    "    'neck_disk_top': False,\n",
    "    'neck_disk_middle': False,\n",
    "    'neck_disk_botton': True,\n",
    "})"
   ]
  },
  {
   "cell_type": "code",
   "execution_count": 5,
   "metadata": {},
   "outputs": [],
   "source": [
    "hal.set_goal_positions({\n",
    "    'l_antenna': 0, \n",
    "    'neck_disk_top': 0,\n",
    "    'neck_disk_middle': 0,\n",
    "})"
   ]
  },
  {
   "cell_type": "code",
   "execution_count": null,
   "metadata": {},
   "outputs": [],
   "source": [
    "t = []\n",
    "\n",
    "while True:\n",
    "    p1, p2 = hal.get_joint_positions(['r_antenna', 'neck_disk_bottom'])\n",
    "\n",
    "    hal.set_goal_positions({\n",
    "        'l_antenna': p2,\n",
    "        'neck_disk_top': p2,\n",
    "        'neck_disk_middle': p1,\n",
    "    })\n",
    "    t.append(time.time())\n",
    "    time.sleep(0.005)"
   ]
  },
  {
   "cell_type": "code",
   "execution_count": 7,
   "metadata": {},
   "outputs": [
    {
     "data": {
      "text/plain": [
       "[<matplotlib.lines.Line2D at 0x11d93ec10>]"
      ]
     },
     "execution_count": 7,
     "metadata": {},
     "output_type": "execute_result"
    }
   ],
   "source": [
    "plt.figure()\n",
    "plt.plot(np.diff(t))"
   ]
  },
  {
   "cell_type": "code",
   "execution_count": 8,
   "metadata": {},
   "outputs": [
    {
     "data": {
      "text/plain": [
       "333.3333333333333"
      ]
     },
     "execution_count": 8,
     "metadata": {},
     "output_type": "execute_result"
    }
   ],
   "source": [
    "1/0.0030"
   ]
  },
  {
   "cell_type": "code",
   "execution_count": null,
   "metadata": {},
   "outputs": [],
   "source": []
  }
 ],
 "metadata": {
  "kernelspec": {
   "display_name": "Python 3",
   "language": "python",
   "name": "python3"
  },
  "language_info": {
   "codemirror_mode": {
    "name": "ipython",
    "version": 3
   },
   "file_extension": ".py",
   "mimetype": "text/x-python",
   "name": "python",
   "nbconvert_exporter": "python",
   "pygments_lexer": "ipython3",
   "version": "3.8.5"
  }
 },
 "nbformat": 4,
 "nbformat_minor": 4
}
